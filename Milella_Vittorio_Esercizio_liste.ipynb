{
  "nbformat": 4,
  "nbformat_minor": 0,
  "metadata": {
    "colab": {
      "provenance": [],
      "collapsed_sections": [],
      "include_colab_link": true
    },
    "kernelspec": {
      "name": "python3",
      "display_name": "Python 3"
    },
    "language_info": {
      "name": "python"
    }
  },
  "cells": [
    {
      "cell_type": "markdown",
      "metadata": {
        "id": "view-in-github",
        "colab_type": "text"
      },
      "source": [
        "<a href=\"https://colab.research.google.com/github/VittorioMilella/Documentazione/blob/main/Milella_Vittorio_Esercizio_liste.ipynb\" target=\"_parent\"><img src=\"https://colab.research.google.com/assets/colab-badge.svg\" alt=\"Open In Colab\"/></a>"
      ]
    },
    {
      "cell_type": "markdown",
      "source": [
        "#Esercizio 1"
      ],
      "metadata": {
        "id": "F1InHJmbdM6X"
      }
    },
    {
      "cell_type": "markdown",
      "source": [
        "Cercare su internet le infomrazioni riguardanti le statistiche sui casi di COVID nelle regioni italiane (casi totali) e memorizzarli in opportune struttture dati. Scrivere poi le istruzioni per avere le seguenti informazioni:\n",
        "\n"
      ],
      "metadata": {
        "id": "QhSL9Ve9bdnO"
      }
    },
    {
      "cell_type": "markdown",
      "source": [
        "1. il numero totale di casi di COVID in ITalia"
      ],
      "metadata": {
        "id": "xkMF7u4fcPHU"
      }
    },
    {
      "cell_type": "code",
      "source": [
        "casiRegioniItaliane = [\t3660000,2330000,2260000,2110000,1900000,1660000,1530000,1490000,1430000,636000,587000,571000,567000,506000,456000,387000,272000,221000,186000,91703,45876 ]\n",
        "regioni = [\"Lombardia\",\"Veneto\",\"Campania\",\"Lazio\",\"Emilia-Romagna\",\"Sicilia\",\"Piemonte\",\"Puglia\",\"Toscana\",\"Marche\",\"Liguria\",\"Abruzzo\",\"Calabria\",\"Friuli-Venezia Giulia\",\"Sardegna\",\"Umbria\",\"Provincia autonoma di Bolzano-Alto Adige\",\"Provincia autonoma di Trento\",\"Basilicata\",\"Molise\",\"Valle D'Aosta\"]\n",
        "sommaCasi = sum(casiRegioniItaliane)\n",
        "print(sommaCasi)\n"
      ],
      "metadata": {
        "id": "_FhU3WWPcSc0",
        "colab": {
          "base_uri": "https://localhost:8080/"
        },
        "outputId": "1caf4817-6b5b-4248-89bb-853f9ad02a8c"
      },
      "execution_count": null,
      "outputs": [
        {
          "output_type": "stream",
          "name": "stdout",
          "text": [
            "22896579\n"
          ]
        }
      ]
    },
    {
      "cell_type": "markdown",
      "source": [
        "2. il numero medio di casi di COVID in Italia"
      ],
      "metadata": {
        "id": "cEbSqa1FcTQs"
      }
    },
    {
      "cell_type": "code",
      "source": [
        "from statistics import mean\n",
        "mean(casiRegioniItaliane)"
      ],
      "metadata": {
        "id": "g1IbY5N7cW10",
        "colab": {
          "base_uri": "https://localhost:8080/"
        },
        "outputId": "c90768ee-9833-47ca-ca98-4ca0ffa754b1"
      },
      "execution_count": null,
      "outputs": [
        {
          "output_type": "execute_result",
          "data": {
            "text/plain": [
              "1090313.2857142857"
            ]
          },
          "metadata": {},
          "execution_count": 3
        }
      ]
    },
    {
      "cell_type": "markdown",
      "source": [
        "3. le regioni che hanno avuto un numero di casi superiore alla media"
      ],
      "metadata": {
        "id": "RV60Rp2DcXJ1"
      }
    },
    {
      "cell_type": "code",
      "source": [
        "media = mean(casiRegioniItaliane)\n",
        "for casi in casiRegioniItaliane:\n",
        "  if casi > media:\n",
        "    print(regioni[casiRegioniItaliane.index(casi)])"
      ],
      "metadata": {
        "id": "MVte31bQcbva",
        "colab": {
          "base_uri": "https://localhost:8080/"
        },
        "outputId": "816fa07c-1fdd-40be-9595-000e218387e5"
      },
      "execution_count": null,
      "outputs": [
        {
          "output_type": "stream",
          "name": "stdout",
          "text": [
            "Lombardia\n",
            "Veneto\n",
            "Campania\n",
            "Lazio\n",
            "Emilia-Romagna\n",
            "Sicilia\n",
            "Piemonte\n",
            "Puglia\n",
            "Toscana\n"
          ]
        }
      ]
    },
    {
      "cell_type": "markdown",
      "source": [
        "4. la percentuale di casi di COVID nelle varie regioni rispetto al totale italiano. Caricare questi dati in un'altra lista"
      ],
      "metadata": {
        "id": "qcz6bUGqccXh"
      }
    },
    {
      "cell_type": "code",
      "source": [
        "totale = sum(casiRegioniItaliane)\n",
        "percentuale = [(percentuale / totale) * 100 for percentuale in casiRegioniItaliane] \n",
        "print(percentuale)"
      ],
      "metadata": {
        "id": "wZAeQZUrcpup",
        "colab": {
          "base_uri": "https://localhost:8080/"
        },
        "outputId": "b0acfca1-550d-43b9-9eb6-edd98c4d411a"
      },
      "execution_count": null,
      "outputs": [
        {
          "output_type": "stream",
          "name": "stdout",
          "text": [
            "[15.984920716758605, 10.176192696734303, 9.870470169364602, 9.215350467858102, 8.298182885749002, 7.249991363338602, 6.682220955366301, 6.507522368297902, 6.245474487695302, 2.777707534387561, 2.563701765228771, 2.4938223304014104, 2.476352471694571, 2.2099371264152605, 1.9915638925797605, 1.6902088298867703, 1.1879503920651202, 0.9652096935529103, 0.8123484298680601, 0.4005096132483372, 0.200361809508748]\n"
          ]
        }
      ]
    },
    {
      "cell_type": "markdown",
      "source": [
        "Cercare adesso la popolazione delle varie regioni italiane e caricare i dati in una opportuna struttura dati."
      ],
      "metadata": {
        "id": "NsxW5y1NcqHj"
      }
    },
    {
      "cell_type": "code",
      "source": [
        "popolazioneRegioni = [9965046, 4854633, 5590681, 5715190, 4431816, 4801468, 4252279, 3912166, 3676285, 1489789, 1507438, 1273660, 1844586, 1197295, 1579181, 859572, 520891, 538223 , 539999, 290769, 123337]\n",
        "print(popolazioneRegioni)"
      ],
      "metadata": {
        "id": "0ey1FJW4cwtS",
        "colab": {
          "base_uri": "https://localhost:8080/"
        },
        "outputId": "208d2565-ff56-4364-c1dc-24f302c75699"
      },
      "execution_count": null,
      "outputs": [
        {
          "output_type": "stream",
          "name": "stdout",
          "text": [
            "[9965046, 4854633, 5590681, 5715190, 4431816, 4801468, 4252279, 3912166, 3676285, 1489789, 1507438, 1273660, 1844586, 1197295, 1579181, 859572, 520891, 538223, 539999, 290769, 123337]\n"
          ]
        }
      ]
    },
    {
      "cell_type": "markdown",
      "source": [
        "5. trovare, per ogni regione, la percentuale di casi sul totale della popolazione di quella regione: caricare i dati in un'altra lista,trovare poi la regione che ha la percentuale più alta in rapporto alla popolazione."
      ],
      "metadata": {
        "id": "O08u1Y_mcxFr"
      }
    },
    {
      "cell_type": "code",
      "source": [
        "totale = sum(casiRegioniItaliane)\n",
        "percentuale = [(percentuale / totale) * 100 for percentuale in popolazioneRegioni] \n",
        "print(percentuale)"
      ],
      "metadata": {
        "id": "JLt5Ey_Wc-Pp",
        "colab": {
          "base_uri": "https://localhost:8080/"
        },
        "outputId": "ea15e621-e765-403a-9561-140d84e54d2d"
      },
      "execution_count": null,
      "outputs": [
        {
          "output_type": "stream",
          "name": "stdout",
          "text": [
            "[43.52198640679029, 21.202438145890703, 24.417101786253745, 24.960890445686232, 19.355799833678212, 20.970241886353417, 18.571678328015725, 17.08624681442586, 16.056044879018827, 6.506600833251115, 6.583682217330371, 5.56266506013846, 8.056164198153795, 5.2291436201015005, 6.897017235631576, 3.754150347088969, 2.274973042916149, 2.3506699406928866, 2.358426557958724, 1.2699233365822902, 0.5386699908313813]\n"
          ]
        }
      ]
    },
    {
      "cell_type": "markdown",
      "source": [
        "6. trovare la regione che ha avuto meno casi in relazione alla popolazione"
      ],
      "metadata": {
        "id": "uULjwtSVc-pc"
      }
    },
    {
      "cell_type": "code",
      "source": [
        "percentuali = [(percentual / casiRegioniItaliane) * 100 for percentuale in casiRegioniItaliane]\n",
        "minimo = min(popolazioneRegioni)\n",
        "print(minimo[regioni.index(casiRegioniItaliane)])"
      ],
      "metadata": {
        "id": "b11IAXxHdC-h",
        "colab": {
          "base_uri": "https://localhost:8080/",
          "height": 200
        },
        "outputId": "8d9765cb-8eb5-4892-a67e-b4bf2f35b3db"
      },
      "execution_count": null,
      "outputs": [
        {
          "output_type": "error",
          "ename": "TypeError",
          "evalue": "ignored",
          "traceback": [
            "\u001b[0;31m---------------------------------------------------------------------------\u001b[0m",
            "\u001b[0;31mTypeError\u001b[0m                                 Traceback (most recent call last)",
            "\u001b[0;32m<ipython-input-19-3e27c1553c97>\u001b[0m in \u001b[0;36m<module>\u001b[0;34m\u001b[0m\n\u001b[0;32m----> 1\u001b[0;31m \u001b[0mpercentuali\u001b[0m \u001b[0;34m=\u001b[0m \u001b[0;34m[\u001b[0m\u001b[0;34m(\u001b[0m\u001b[0mpercentual\u001b[0m \u001b[0;34m/\u001b[0m \u001b[0mcasiRegioniItaliane\u001b[0m\u001b[0;34m)\u001b[0m \u001b[0;34m*\u001b[0m \u001b[0;36m100\u001b[0m \u001b[0;32mfor\u001b[0m \u001b[0mpercentuale\u001b[0m \u001b[0;32min\u001b[0m \u001b[0mcasiRegioniItaliane\u001b[0m\u001b[0;34m]\u001b[0m\u001b[0;34m\u001b[0m\u001b[0;34m\u001b[0m\u001b[0m\n\u001b[0m\u001b[1;32m      2\u001b[0m \u001b[0mminimo\u001b[0m \u001b[0;34m=\u001b[0m \u001b[0mmin\u001b[0m\u001b[0;34m(\u001b[0m\u001b[0mpopolazioneRegioni\u001b[0m\u001b[0;34m)\u001b[0m\u001b[0;34m\u001b[0m\u001b[0;34m\u001b[0m\u001b[0m\n\u001b[1;32m      3\u001b[0m \u001b[0mprint\u001b[0m\u001b[0;34m(\u001b[0m\u001b[0mminimo\u001b[0m\u001b[0;34m[\u001b[0m\u001b[0mregioni\u001b[0m\u001b[0;34m.\u001b[0m\u001b[0mindex\u001b[0m\u001b[0;34m(\u001b[0m\u001b[0mcasiRegioniItaliane\u001b[0m\u001b[0;34m)\u001b[0m\u001b[0;34m]\u001b[0m\u001b[0;34m)\u001b[0m\u001b[0;34m\u001b[0m\u001b[0;34m\u001b[0m\u001b[0m\n",
            "\u001b[0;31mTypeError\u001b[0m: 'int' object is not iterable"
          ]
        }
      ]
    },
    {
      "cell_type": "markdown",
      "source": [
        "#Esercizio 2"
      ],
      "metadata": {
        "id": "lDj-tyLwdDTh"
      }
    },
    {
      "cell_type": "markdown",
      "source": [
        "1. Creare due liste di 20 numeri casuali interi, compresi tra 1 e 10 non utilizzzando la list comprehension. Determinare il tempo di esecuzione di questo programma"
      ],
      "metadata": {
        "id": "HiNbJe-ldQTC"
      }
    },
    {
      "cell_type": "code",
      "source": [],
      "metadata": {
        "id": "hruqXxVAdWHr"
      },
      "execution_count": null,
      "outputs": []
    },
    {
      "cell_type": "markdown",
      "source": [
        "2. Creare due liste di 20 numeri casuali interi, compresi tra 1 e 10  utilizzzando la list comprehension. Determinare il tempo di esecuzione di questo programma\n"
      ],
      "metadata": {
        "id": "wu_rcB1-dWgK"
      }
    },
    {
      "cell_type": "code",
      "source": [],
      "metadata": {
        "id": "rqz-1n7qdx3A"
      },
      "execution_count": null,
      "outputs": []
    },
    {
      "cell_type": "markdown",
      "source": [
        "3. creare una terza lista di valore booleani: inserire un valore vero se il primo elemento della prima lista è maggiore del primo elemento della seconda lista e così via per tutti gli elemeni delle due liste"
      ],
      "metadata": {
        "id": "ep4BmOYddyIi"
      }
    },
    {
      "cell_type": "code",
      "source": [],
      "metadata": {
        "id": "838ZxBNVeCfn"
      },
      "execution_count": null,
      "outputs": []
    },
    {
      "cell_type": "markdown",
      "source": [
        "4. utilizzando la terza lista, contare quanti sono gli elementi della prima lista che sono maggiori della seconda lista"
      ],
      "metadata": {
        "id": "pJcj5hNVeC4b"
      }
    },
    {
      "cell_type": "code",
      "source": [],
      "metadata": {
        "id": "ZOdPph2WeMBg"
      },
      "execution_count": null,
      "outputs": []
    },
    {
      "cell_type": "markdown",
      "source": [
        "5. eliminare dalla seconda lista tutti gli elementi minori rispetto a quelli della prima lista, inserendoli in una quarta lista"
      ],
      "metadata": {
        "id": "9KHq-xy7eMYO"
      }
    },
    {
      "cell_type": "code",
      "source": [],
      "metadata": {
        "id": "VfgmqLmteRbD"
      },
      "execution_count": null,
      "outputs": []
    },
    {
      "cell_type": "markdown",
      "source": [
        "6. svutoare tutte e quattro le liste"
      ],
      "metadata": {
        "id": "R83H7_oheRzI"
      }
    },
    {
      "cell_type": "code",
      "source": [],
      "metadata": {
        "id": "iPDbfgW2efAJ"
      },
      "execution_count": null,
      "outputs": []
    }
  ]
}