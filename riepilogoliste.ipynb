{
  "nbformat": 4,
  "nbformat_minor": 0,
  "metadata": {
    "colab": {
      "provenance": [],
      "include_colab_link": true
    },
    "kernelspec": {
      "name": "python3",
      "display_name": "Python 3"
    },
    "language_info": {
      "name": "python"
    }
  },
  "cells": [
    {
      "cell_type": "markdown",
      "metadata": {
        "id": "view-in-github",
        "colab_type": "text"
      },
      "source": [
        "<a href=\"https://colab.research.google.com/github/VittorioMilella/Documentazione/blob/main/riepilogoliste.ipynb\" target=\"_parent\"><img src=\"https://colab.research.google.com/assets/colab-badge.svg\" alt=\"Open In Colab\"/></a>"
      ]
    },
    {
      "cell_type": "markdown",
      "source": [
        "questo notebook contiene informazioni fondamentali per lavorare sulle liste"
      ],
      "metadata": {
        "id": "03TG5NFDCb3L"
      }
    },
    {
      "cell_type": "markdown",
      "source": [
        "Definizione di lista:\n",
        "una lista è una struttura di dati dinamica utilizzata per memorizzare dati in modo non permanente,memorizzazione nella RAM.\n",
        "Dinamico:\n",
        "la dimensione della lista non deve essere fissata a priori(prima dell'uso).\n",
        "Non permanente:\n",
        "significa che i dati visualizzati nella lista vengono cancellati quando si chiude il notebook."
      ],
      "metadata": {
        "id": "qvx5HU5ACn8a"
      }
    },
    {
      "cell_type": "markdown",
      "source": [
        "1.Inizializzazione di una lista.\n",
        "2.Inserimento di elementi.\n",
        "3.Visualizzazione di una lista.\n",
        "4.Rimozione di elementi di una lista.\n",
        "5.Aggiunta di un elemento di una lista.\n",
        "6.Visualizzazione di uno o più elementi di una lista.\n",
        "7.Trovare minimo e massimo.\n",
        "8.Effettuare operazioni sugli elementi di una lista.\n",
        "9.Ordinare gli elementi di una lista(crescente,decrescente)."
      ],
      "metadata": {
        "id": "jeEI99aQEKZr"
      }
    },
    {
      "cell_type": "markdown",
      "source": [],
      "metadata": {
        "id": "mZhUcPCBFvAK"
      }
    },
    {
      "cell_type": "markdown",
      "source": [
        "1.Inizializzazione di una lista."
      ],
      "metadata": {
        "id": "RMI7mNRmF1lg"
      }
    },
    {
      "cell_type": "code",
      "source": [
        "lista=[1,2,3,4,5,6,7,8,9,10]"
      ],
      "metadata": {
        "id": "VVKXSX8EF24I"
      },
      "execution_count": null,
      "outputs": []
    },
    {
      "cell_type": "markdown",
      "source": [
        "2.Inserimento di elementi."
      ],
      "metadata": {
        "id": "2XfSETULF8UJ"
      }
    },
    {
      "cell_type": "code",
      "source": [
        "lista.append(10) #aggiunge un elemento alla fine di una lista\n",
        "lista.extend([11,12,13]) #aggiunge 3 elementi alla fine di una lista\n",
        "lista.insert(5,20) #aggiunge il 20 alla posizione numero 5"
      ],
      "metadata": {
        "id": "yp-HyLqOF_IA"
      },
      "execution_count": null,
      "outputs": []
    },
    {
      "cell_type": "markdown",
      "source": [
        "3.Visualizzazione di una lista."
      ],
      "metadata": {
        "id": "xFAmWZSgGe9I"
      }
    },
    {
      "cell_type": "code",
      "source": [
        "print(lista)"
      ],
      "metadata": {
        "colab": {
          "base_uri": "https://localhost:8080/"
        },
        "id": "xlNpOpK-GiNw",
        "outputId": "3610e79b-e6c8-444a-a6d6-b777625a31c5"
      },
      "execution_count": null,
      "outputs": [
        {
          "output_type": "stream",
          "name": "stdout",
          "text": [
            "[20, 20, 13, 13, 12, 12, 11, 9, 8, 7, 4, 3, 2, 1]\n"
          ]
        }
      ]
    },
    {
      "cell_type": "markdown",
      "source": [
        "4.Rimozione di elementi di una lista."
      ],
      "metadata": {
        "id": "1fEEC9CbG5Ch"
      }
    },
    {
      "cell_type": "code",
      "source": [
        "lista.remove(10) #rimuove la prima occorrenza(istanza) del numero 10\n",
        "lista.pop(10) #rimuove l'elemento in posizione 10\n",
        "del lista[10] #rimuove l'elemento in posizione 10"
      ],
      "metadata": {
        "id": "aJsyNuCNHJjY"
      },
      "execution_count": null,
      "outputs": []
    },
    {
      "cell_type": "markdown",
      "source": [
        "5.Aggiunta di un elemento di una lista."
      ],
      "metadata": {
        "id": "6sfQ0qruHiiA"
      }
    },
    {
      "cell_type": "code",
      "source": [
        "lista.append(10) #aggiunge un elemento alla fine di una lista\n",
        "lista.extend([11,12,13]) #aggiunge 3 elementi alla fine di una lista\n",
        "lista.insert(5,20) #aggiunge il 20 alla posizione numero 5"
      ],
      "metadata": {
        "id": "Kf1j37bzHlcw"
      },
      "execution_count": null,
      "outputs": []
    },
    {
      "cell_type": "markdown",
      "source": [
        "6.Visualizzazione di uno o più elementi di una lista."
      ],
      "metadata": {
        "id": "o4ta4MXkIRZh"
      }
    },
    {
      "cell_type": "code",
      "source": [
        "print(lista[4]) #visualizza il quinto elemento,cioè l'elemento in posizione 4 perchè l'indice inizia da 0\n",
        "print(lista[4:8]) #slicing: visualizza gli elementi dalla posizione 4 alla posizione 7\n",
        "print(lista[4:8:2]) #slicing: visualizza gli elementi dalla posizione 4 alla posizione 7 a due a due\n",
        "print(lista[4:]) #visualizzazione degli elementi dal 4 fino alla fine\n",
        "print(lista[:4]) #visualizzazione degli elementi fino alla posizione 3\n",
        "print(lista[::4]) #prende tutti i numeri 4 a 4\n",
        "print(lista[-1]) #visualizza l'ultimo elemento"
      ],
      "metadata": {
        "colab": {
          "base_uri": "https://localhost:8080/"
        },
        "id": "6SP-Pq3cIWaZ",
        "outputId": "e0a5cb2a-c77e-4b46-acab-9d24fe74177c"
      },
      "execution_count": null,
      "outputs": [
        {
          "output_type": "stream",
          "name": "stdout",
          "text": [
            "5\n",
            "[5, 20, 20, 6]\n",
            "[5, 20]\n",
            "[5, 20, 20, 6, 7, 8, 9, 12, 13, 10, 11, 12, 13]\n",
            "[1, 2, 3, 4]\n",
            "[1, 5, 7, 13, 13]\n",
            "13\n"
          ]
        }
      ]
    },
    {
      "cell_type": "code",
      "source": [
        "lista.index(10) #restituisce l'indice in cui si trova la prima occorrenza dell'elemento 10"
      ],
      "metadata": {
        "id": "kjbG-nwZSish"
      },
      "execution_count": null,
      "outputs": []
    },
    {
      "cell_type": "markdown",
      "source": [
        "7.Trovare minimo e massimo."
      ],
      "metadata": {
        "id": "-thZgGJqIkbQ"
      }
    },
    {
      "cell_type": "code",
      "source": [
        "min(lista)\n",
        "max(lista)"
      ],
      "metadata": {
        "colab": {
          "base_uri": "https://localhost:8080/"
        },
        "id": "KlNvEN3xIm5H",
        "outputId": "859877d9-23ad-4000-b88b-f0f3993f95b8"
      },
      "execution_count": null,
      "outputs": [
        {
          "output_type": "execute_result",
          "data": {
            "text/plain": [
              "20"
            ]
          },
          "metadata": {},
          "execution_count": 14
        }
      ]
    },
    {
      "cell_type": "markdown",
      "source": [
        "8.Effettuare operazioni sugli elementi di una lista."
      ],
      "metadata": {
        "id": "QNh91w-nKHVP"
      }
    },
    {
      "cell_type": "code",
      "source": [
        "sum(lista) #calcola somma degli elementi di una lista\n",
        "from statistics import mean #calcola la media degli elementi di una lista\n",
        "mean(lista) #calcola la media degli elementi di una lista\n",
        "len(lista) #calcola la lunghezza della lista\n"
      ],
      "metadata": {
        "id": "UtKP74skKH_H"
      },
      "execution_count": null,
      "outputs": []
    },
    {
      "cell_type": "markdown",
      "source": [
        "9.Ordinare gli elementi di una lista(crescente,decrescente)."
      ],
      "metadata": {
        "id": "P_H5eUZgK2qp"
      }
    },
    {
      "cell_type": "code",
      "source": [
        "lista.sort() #ordina gli elementi di una lista in ordine crescente\n",
        "lista.sort(reverse = True) #ordina gli elementi di una lista in ordine decrescente\n",
        "print(lista) "
      ],
      "metadata": {
        "colab": {
          "base_uri": "https://localhost:8080/"
        },
        "id": "EtOJ19m4K3O3",
        "outputId": "6a348c86-746c-439c-874f-19cc83b5c442"
      },
      "execution_count": null,
      "outputs": [
        {
          "output_type": "stream",
          "name": "stdout",
          "text": [
            "[20, 20, 13, 13, 12, 12, 11, 10, 9, 8, 7, 6, 5, 4, 3, 2, 1]\n"
          ]
        }
      ]
    },
    {
      "cell_type": "markdown",
      "source": [
        "10.Controllo della presenza di un elemento della lista."
      ],
      "metadata": {
        "id": "EL5SNcStNiiR"
      }
    },
    {
      "cell_type": "code",
      "source": [
        "9 in lista #restituisce true se il 9 è presente nella lista"
      ],
      "metadata": {
        "id": "0MLKsfOTNqRk"
      },
      "execution_count": null,
      "outputs": []
    }
  ]
}